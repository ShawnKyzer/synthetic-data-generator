{
 "cells": [
  {
   "cell_type": "markdown",
   "metadata": {
    "id": "Vj5le65hDNRE"
   },
   "source": [
    "# Step 1 - Installing the required dependencies \n",
    "Before we can begin we need to make sure we have all the required dependencies installed in our notebook kernel. You will also want to ensure that you have the configured the correct runtime in the notebook (e.g. GPU or CPU)"
   ]
  },
  {
   "cell_type": "code",
   "execution_count": null,
   "metadata": {
    "id": "9ws1jlBY3O6G"
   },
   "outputs": [],
   "source": [
    "# In order to avoid future dependency issues we have frozen the versions. \n",
    "# This means you may have to alter these as time goes by and new releases\n",
    "# are available. \n",
    "# From https://github.com/gretelai/gretel-synthetics/blob/master/examples/record_factory.ipynb\n",
    "!pip install gretel-synthetics==0.19.0\n",
    "!pip install pandas-profiling==3.6.2\n",
    "!pip install matplotlib==3.6.3\n",
    "!pip install tensorflow\n",
    "# Restart the runtime for matplot libs updates"
   ]
  },
  {
   "cell_type": "markdown",
   "metadata": {
    "id": "Ji82-W_Vj3Zw"
   },
   "source": [
    "# Step 2 - The Setup \n",
    "Now that we have a place to put all our data and persist checkpoints lets start by reading in the data and converting our date column in preparation for the training. "
   ]
  },
  {
   "cell_type": "code",
   "execution_count": null,
   "metadata": {
    "id": "RHmT8tZYki4Y"
   },
   "outputs": [],
   "source": [
    "import pandas as pd\n",
    "from gretel_synthetics.batch import DataFrameBatch\n",
    "\n",
    "train_df = pd.read_csv(\"https://gretel-public-website.s3-us-west-2.amazonaws.com/tests/synthetics/data/USAdultIncome14K.csv\")"
   ]
  },
  {
   "cell_type": "markdown",
   "metadata": {
    "id": "7w5lofkrnUvG"
   },
   "source": [
    "# Step 3 - Training the model\n",
    "We are now ready to configure the model and begin the training using DGAN and batch training of the dataframe. "
   ]
  },
  {
   "cell_type": "code",
   "execution_count": null,
   "metadata": {
    "id": "kHRcQ39fn2vv"
   },
   "outputs": [],
   "source": [
    "from pathlib import Path\n",
    "\n",
    "checkpoint_dir = str(Path.cwd() / \"test-model-2\")\n",
    "\n",
    "config_template = {\n",
    "    \"epochs\": 10000,\n",
    "    \"max_line_len\": 2048,\n",
    "    \"vocab_size\": 200000,\n",
    "    \"field_delimiter\": \",\",\n",
    "    \"overwrite\": True,\n",
    "    \"checkpoint_dir\": checkpoint_dir\n",
    "}\n",
    "\n",
    "batcher = DataFrameBatch(df=train_df, config=config_template, batch_size=5)\n"
   ]
  },
  {
   "cell_type": "code",
   "execution_count": null,
   "metadata": {
    "id": "01US7mSSnoTD"
   },
   "outputs": [],
   "source": [
    "batcher.create_training_data()\n",
    "batcher.train_all_batches()\n"
   ]
  },
  {
   "cell_type": "code",
   "execution_count": null,
   "metadata": {
    "id": "OlgxMp3-nzRK"
   },
   "outputs": [],
   "source": [
    "# Trigger the batch for all lines generating the same number as in original set for comparison later\n",
    "status = batcher.generate_all_batch_lines(num_lines=train_df.shape[0])\n"
   ]
  },
  {
   "cell_type": "code",
   "execution_count": null,
   "metadata": {
    "id": "BRTTpEiOn-zx"
   },
   "outputs": [],
   "source": [
    "synthetic_df = batcher.batches_to_df()\n"
   ]
  },
  {
   "cell_type": "markdown",
   "metadata": {
    "id": "LWHMOWJrn9n3"
   },
   "source": [
    "# Step 4 - Model Evaluation - How did we do?\n",
    "Now that we have both our initial training set and our generated set lets do a side by side comparision with pandas_profiling. "
   ]
  },
  {
   "cell_type": "code",
   "execution_count": null,
   "metadata": {
    "id": "ye4F1Mi4oNXj"
   },
   "outputs": [],
   "source": [
    "import pandas as pd\n",
    "from pandas_profiling import ProfileReport\n",
    "\n",
    "# Produce the data profiling report\n",
    "original_report = ProfileReport(train_df, title='Original Data')\n",
    "\n",
    "synthetic_report = ProfileReport(synthetic_df, title='Synthetic Data')\n",
    "\n",
    "comparison_report = original_report.compare(synthetic_report)\n",
    "comparison_report.to_file(\"original_vs_transformed.html\") \n",
    "comparison_report.to_notebook_iframe()"
   ]
  }
 ],
 "metadata": {
  "accelerator": "GPU",
  "colab": {
   "provenance": []
  },
  "gpuClass": "standard",
  "kernelspec": {
   "display_name": "Python 3 (ipykernel)",
   "language": "python",
   "name": "python3"
  },
  "language_info": {
   "codemirror_mode": {
    "name": "ipython",
    "version": 3
   },
   "file_extension": ".py",
   "mimetype": "text/x-python",
   "name": "python",
   "nbconvert_exporter": "python",
   "pygments_lexer": "ipython3",
   "version": "3.10.11"
  }
 },
 "nbformat": 4,
 "nbformat_minor": 4
}